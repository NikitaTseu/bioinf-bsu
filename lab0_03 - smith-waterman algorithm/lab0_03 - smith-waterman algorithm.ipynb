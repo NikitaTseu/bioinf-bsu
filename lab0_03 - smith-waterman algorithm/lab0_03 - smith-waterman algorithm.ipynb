{
 "cells": [
  {
   "cell_type": "code",
   "execution_count": 1,
   "metadata": {},
   "outputs": [],
   "source": [
    "import numpy as np\n",
    "from Bio.SubsMat.MatrixInfo import blosum62 as blos \n",
    "from Bio.SubsMat.MatrixInfo import pam30 as pam\n",
    "\n",
    "gap = 10"
   ]
  },
  {
   "cell_type": "code",
   "execution_count": 2,
   "metadata": {},
   "outputs": [],
   "source": [
    "def e(s1, s2, i, j, weight_table):\n",
    "    if(weight_table == \"blosum62\"):\n",
    "        return blos.get((s1[i], s2[j])) or blos.get((s2[j], s1[i])) or 0\n",
    "    elif(weight_table == \"pam30\"):\n",
    "        return pam.get((s1[i], s2[j])) or pam.get((s2[j], s1[i])) or 0\n",
    "    else:\n",
    "        return 0"
   ]
  },
  {
   "cell_type": "code",
   "execution_count": 3,
   "metadata": {},
   "outputs": [],
   "source": [
    "def create_matrix(s1, s2, weight_table):\n",
    "    m = len(s1) + 1\n",
    "    n = len(s2) + 1\n",
    "    a = np.zeros((n, m))\n",
    "        \n",
    "    for i in range(1, n):\n",
    "        for j in range(1, m):\n",
    "            a[i][j] = np.max([a[i-1][j-1] + e(s1, s2, j-1, i-1, weight_table),\n",
    "                             a[i-1][j] - gap,\n",
    "                             a[i][j-1] - gap,\n",
    "                             0])\n",
    "    return a, n, m"
   ]
  },
  {
   "cell_type": "code",
   "execution_count": 4,
   "metadata": {},
   "outputs": [],
   "source": [
    "def get_align(str1, str2, weight_table):\n",
    "    a, n, m = create_matrix(str1, str2, weight_table)\n",
    "    \n",
    "    i_max, j_max = n - 1, m - 1\n",
    "    \n",
    "    for i in range(0, n):\n",
    "        for j in range(0, m):\n",
    "            if(a[i][j] >= a[i_max][j_max]):\n",
    "                i_max = i\n",
    "                j_max = j\n",
    "                \n",
    "    i, j = i_max, j_max\n",
    "    \n",
    "    s1, s2 = \"\", \"\"\n",
    "    \n",
    "    while(a[i][j] != 0):\n",
    "        if(a[i-1][j-1] + e(str1, str2, j-1, i-1, weight_table) >= a[i][j-1] - gap and\n",
    "           a[i-1][j-1] + e(str1, str2, j-1, i-1, weight_table) >= a[i-1][j] - gap):\n",
    "            s1 += str1[j-1]\n",
    "            s2 += str2[i-1]\n",
    "            j -= 1\n",
    "            i -= 1\n",
    "        elif(a[i-1][j] - gap >= a[i-1][j-1] + e(str1, str2, j-1, i-1, weight_table) and\n",
    "             a[i-1][j] - gap >= a[i][j-1] - gap):\n",
    "            s2 += str2[i-1]\n",
    "            s1 += \"-\"\n",
    "            i -= 1\n",
    "        elif(a[i][j-1] - gap >= a[i-1][j-1] + e(str1, str2, j-1, i-1, weight_table) and\n",
    "             a[i][j-1] - gap >= a[i-1][j] - gap):\n",
    "            s2 += \"-\"\n",
    "            s1 += str1[j-1]\n",
    "            j -= 1\n",
    "            \n",
    "    s1 = s1[::-1]\n",
    "    s2 = s2[::-1]\n",
    "    \n",
    "    start_l1, start_l2 = 0, 0\n",
    "    end_l1, end_l2 = 0, 0\n",
    "    gap1, gap2 = 0, 0\n",
    "    \n",
    "    for i in range(0, len(s1)):\n",
    "        if (s1[i] == '-'):\n",
    "            gap1 += 1\n",
    "    \n",
    "    for i in range(0, len(s2)):\n",
    "        if (s2[i] == '-'):\n",
    "            gap2 += 1\n",
    "    \n",
    "    start_l1 = j_max - len(s1) + gap1\n",
    "    start_l2 = i_max - len(s2) + gap2\n",
    "    end_l1 = len(str1) - j_max\n",
    "    end_l2 = len(str2) - i_max\n",
    "    \n",
    "    k = start_l1\n",
    "    while(k != 0):\n",
    "        s1 = str1[k - 1] + s1\n",
    "        k -= 1\n",
    "        \n",
    "    k = start_l2\n",
    "    while(k != 0):\n",
    "        s2 = str2[k - 1] + s2\n",
    "        k -= 1\n",
    "        \n",
    "    k = 0\n",
    "    while(k != end_l1):\n",
    "        s1 += str1[j_max + k]\n",
    "        k += 1\n",
    "        \n",
    "    k = 0\n",
    "    while(k != end_l2):\n",
    "        s2 += str2[i_max + k]\n",
    "        k += 1\n",
    "    \n",
    "    k = max(0, start_l2 - start_l1)\n",
    "    while(k != 0):\n",
    "        s1 = \" \" + s1\n",
    "        k -= 1\n",
    "        \n",
    "    k = max(0, start_l1 - start_l2)\n",
    "    while(k != 0):\n",
    "        s2 = \" \" + s2\n",
    "        k -= 1\n",
    "        \n",
    "    k = max(0, end_l2 - end_l1)\n",
    "    while(k != 0):\n",
    "        s1 += \" \"\n",
    "        k -= 1\n",
    "        \n",
    "    k = max(0, end_l1 - end_l2)\n",
    "    while(k != 0):\n",
    "        s2 += \" \"\n",
    "        k -= 1\n",
    "    \n",
    "    s_help = \"\"\n",
    "    \n",
    "    for i in range(0, len(s1)):\n",
    "        if(s1[i] == s2[i]):\n",
    "            s_help += \"|\"\n",
    "        else:\n",
    "            s_help += \".\"\n",
    "    \n",
    "    list_help = list(s_help)\n",
    "    for i in range(0, max(start_l1, start_l2)):\n",
    "        list_help[i] = ' '\n",
    "    \n",
    "    for i in range(len(s1) - max(end_l1, end_l2), len(s1)):\n",
    "        list_help[i] = ' '\n",
    "    s_help = \"\".join(list_help)\n",
    "            \n",
    "    return s1, s2, s_help"
   ]
  },
  {
   "cell_type": "markdown",
   "metadata": {},
   "source": [
    "### BLOSUM62 TESTING"
   ]
  },
  {
   "cell_type": "code",
   "execution_count": 5,
   "metadata": {},
   "outputs": [
    {
     "name": "stdout",
     "output_type": "stream",
     "text": [
      "TACGGGCCCGCTAC    \n",
      "     ||||..|.     \n",
      "   TAGCCCTATCGGTCA\n"
     ]
    }
   ],
   "source": [
    "str1=\"TACGGGCCCGCTAC\"\n",
    "str2=\"TAGCCCTATCGGTCA\"\n",
    "s1, s2, s_help = get_align(str1, str2, \"blosum62\")\n",
    "print(s1)\n",
    "print(s_help)\n",
    "print(s2)"
   ]
  },
  {
   "cell_type": "code",
   "execution_count": 6,
   "metadata": {},
   "outputs": [
    {
     "name": "stdout",
     "output_type": "stream",
     "text": [
      "CCA-AGGCT\n",
      "|||.||.| \n",
      "CCAGAGAC \n"
     ]
    }
   ],
   "source": [
    "str1=\"CCAAGGCT\"\n",
    "str2=\"CCAGAGAC\"\n",
    "s1, s2, s_help = get_align(str1, str2, \"blosum62\")\n",
    "print(s1)\n",
    "print(s_help)\n",
    "print(s2)"
   ]
  },
  {
   "cell_type": "code",
   "execution_count": 7,
   "metadata": {},
   "outputs": [
    {
     "name": "stdout",
     "output_type": "stream",
     "text": [
      "     GGAGTGAGGGGAGCAGTTGGCTGAAGATGGTCCCCGCCGAGGGACCGGTGGGCGACGGCGAGCTGTGGCAGACCT\n",
      "     ||||||||||||||||||||....|||||||||||||||||||||||||||||||||||.||||||||||     \n",
      "CATGCGGAGTGAGGGGAGCAGTTGGGAACAGATGGTCCCCGCCGAGGGACCGGTGGGCGACGGCCAGCTGTGGCA     \n"
     ]
    }
   ],
   "source": [
    "str1=\"GGAGTGAGGGGAGCAGTTGGCTGAAGATGGTCCCCGCCGAGGGACCGGTGGGCGACGGCGAGCTGTGGCAGACCT\"\n",
    "str2=\"CATGCGGAGTGAGGGGAGCAGTTGGGAACAGATGGTCCCCGCCGAGGGACCGGTGGGCGACGGCCAGCTGTGGCA\"\n",
    "s1, s2, s_help = get_align(str1, str2, \"blosum62\")\n",
    "print(s1)\n",
    "print(s_help)\n",
    "print(s2)"
   ]
  },
  {
   "cell_type": "markdown",
   "metadata": {},
   "source": [
    "### PAM30 TESTING"
   ]
  },
  {
   "cell_type": "code",
   "execution_count": 8,
   "metadata": {},
   "outputs": [
    {
     "name": "stdout",
     "output_type": "stream",
     "text": [
      "TACGGGCCCGCTAC    \n",
      "     ||||         \n",
      "   TAGCCCTATCGGTCA\n"
     ]
    }
   ],
   "source": [
    "str1=\"TACGGGCCCGCTAC\"\n",
    "str2=\"TAGCCCTATCGGTCA\"\n",
    "s1, s2, s_help = get_align(str1, str2, \"pam30\")\n",
    "print(s1)\n",
    "print(s_help)\n",
    "print(s2)"
   ]
  },
  {
   "cell_type": "code",
   "execution_count": 9,
   "metadata": {},
   "outputs": [
    {
     "name": "stdout",
     "output_type": "stream",
     "text": [
      "CCA-AGGCT\n",
      "|||.||.| \n",
      "CCAGAGAC \n"
     ]
    }
   ],
   "source": [
    "str1=\"CCAAGGCT\"\n",
    "str2=\"CCAGAGAC\"\n",
    "s1, s2, s_help = get_align(str1, str2, \"pam30\")\n",
    "print(s1)\n",
    "print(s_help)\n",
    "print(s2)"
   ]
  },
  {
   "cell_type": "code",
   "execution_count": 10,
   "metadata": {},
   "outputs": [
    {
     "name": "stdout",
     "output_type": "stream",
     "text": [
      "     GGAGTGAGGGGAGCAGTTGGCTGAAGATGGTCCCCGCCGAGGGACCGGTGGGCGACGGCGAGCTGTGGCAGACCT\n",
      "     ||||||||||||||||||||....|||||||||||||||||||||||||||||||||||.||||||||||     \n",
      "CATGCGGAGTGAGGGGAGCAGTTGGGAACAGATGGTCCCCGCCGAGGGACCGGTGGGCGACGGCCAGCTGTGGCA     \n"
     ]
    }
   ],
   "source": [
    "str1=\"GGAGTGAGGGGAGCAGTTGGCTGAAGATGGTCCCCGCCGAGGGACCGGTGGGCGACGGCGAGCTGTGGCAGACCT\"\n",
    "str2=\"CATGCGGAGTGAGGGGAGCAGTTGGGAACAGATGGTCCCCGCCGAGGGACCGGTGGGCGACGGCCAGCTGTGGCA\"\n",
    "s1, s2, s_help = get_align(str1, str2, \"pam30\")\n",
    "print(s1)\n",
    "print(s_help)\n",
    "print(s2)"
   ]
  },
  {
   "cell_type": "code",
   "execution_count": null,
   "metadata": {},
   "outputs": [],
   "source": []
  }
 ],
 "metadata": {
  "kernelspec": {
   "display_name": "Python 3",
   "language": "python",
   "name": "python3"
  },
  "language_info": {
   "codemirror_mode": {
    "name": "ipython",
    "version": 3
   },
   "file_extension": ".py",
   "mimetype": "text/x-python",
   "name": "python",
   "nbconvert_exporter": "python",
   "pygments_lexer": "ipython3",
   "version": "3.7.4"
  }
 },
 "nbformat": 4,
 "nbformat_minor": 2
}
