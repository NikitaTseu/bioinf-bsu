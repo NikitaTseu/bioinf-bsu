{
 "cells": [
  {
   "cell_type": "code",
   "execution_count": 1,
   "metadata": {},
   "outputs": [],
   "source": [
    "from Bio import SeqIO\n",
    "from Bio import SeqUtils\n",
    "from Bio.Seq import Seq\n",
    "from Bio.SeqRecord import SeqRecord\n",
    "from Bio.Alphabet import IUPAC"
   ]
  },
  {
   "cell_type": "markdown",
   "metadata": {},
   "source": [
    "### Теория - задание 1"
   ]
  },
  {
   "cell_type": "markdown",
   "metadata": {},
   "source": [
    "Наиболее надёжным методом предсказания третичной структуры белка является рентгеноструктурный анализ его кристализованной формы. Однако данный метод достаточно сложен в реализации и может осуществляться только в хорошо оборудованных лабораториях.\n",
    "\n",
    "Существует большое количество возможных подходов к решению данной задачи с вычислительной точки зрения. В частности можно попытаться разбить первичную последовательность на маленькие участки, посмотреть, какие конформации соответствующих участков уже присутствуют в базе данных, а затем с помощью методов машинного обучения попытаться \"собрать\" из них структуру всего белка.\n",
    "\n",
    "Также известно, что белки со схожей первичной структурой имеют схожее пространственное строение. Поэтому можно найти белок с похожей структурой, и \"натянуть\" нашу последовательность на его пространственное строение, после чего скорректировать конформацию с помощью минимизации энергии."
   ]
  },
  {
   "cell_type": "markdown",
   "metadata": {},
   "source": [
    "### Теория - задание 2"
   ]
  },
  {
   "cell_type": "markdown",
   "metadata": {},
   "source": [
    "Выделение индивидуальных генов из генома можно производить с помощью поиска start- и stop- кодонов"
   ]
  },
  {
   "cell_type": "markdown",
   "metadata": {},
   "source": [
    "### Практика - задание 1"
   ]
  },
  {
   "cell_type": "code",
   "execution_count": 8,
   "metadata": {},
   "outputs": [],
   "source": [
    "import numpy as np\n",
    "\n",
    "def e(s1, s2, i, j):\n",
    "    if(s1[i] == s2[j]):\n",
    "        return 1\n",
    "    else:\n",
    "        return -1\n",
    "\n",
    "def create_matrix(s1, s2):\n",
    "    m = len(s1) + 1\n",
    "    n = len(s2) + 1\n",
    "    a = np.zeros((n, m))\n",
    "    \n",
    "    for i in range(0, n):\n",
    "        a[i][0] = -i\n",
    "    for i in range(0, m):\n",
    "        a[0][i] = -i\n",
    "        \n",
    "    for i in range(1, n):\n",
    "        for j in range(1, m):\n",
    "            a[i][j] = np.max([a[i-1][j-1] + e(s1, s2, j-1, i-1),\n",
    "                             a[i-1][j] - 1,\n",
    "                             a[i][j-1] - 1])\n",
    "    \n",
    "    #print (a)\n",
    "    \n",
    "    return a, n, m\n",
    "\n",
    "def get_align(str1, str2):\n",
    "    a, n, m = create_matrix(str1, str2)\n",
    "    print(\"Score: {}\".format(a[n-1][m-1]))\n",
    "    i, j = n - 1, m - 1\n",
    "    s1, s2 = \"\", \"\"\n",
    "    while(i != 0 or j != 0):\n",
    "        if(i == 0):\n",
    "            j -= 1\n",
    "            s2 += \"-\"\n",
    "            s1 += str1[j]\n",
    "        elif(j == 0):\n",
    "            i -= 1\n",
    "            s1 += \"-\"\n",
    "            s2 += str2[i]\n",
    "        else:\n",
    "            if(a[i-1][j-1] >= a[i][j-1] and a[i-1][j-1] >= a[i-1][j]):\n",
    "                j -= 1\n",
    "                i -= 1\n",
    "                s1 += str1[j]\n",
    "                s2 += str2[i]\n",
    "            elif(a[i-1][j] >= a[i-1][j-1] and a[i-1][j] >= a[i][j-1]):\n",
    "                i -= 1\n",
    "                s1 += \"-\"\n",
    "                s2 += str2[i]\n",
    "            elif(a[i][j-1] >= a[i-1][j-1] and a[i][j-1] >= a[i-1][j]):\n",
    "                j -= 1\n",
    "                s2 += \"-\"\n",
    "                s1 += str1[j]\n",
    "    \n",
    "    s1 = s1[::-1]\n",
    "    s2 = s2[::-1]\n",
    "    return s1, s2"
   ]
  },
  {
   "cell_type": "code",
   "execution_count": 14,
   "metadata": {},
   "outputs": [
    {
     "name": "stdout",
     "output_type": "stream",
     "text": [
      "Score: -2.0\n",
      "CAGCACTTGGATTCTCGG\n",
      "CAGC----G--T----GG\n",
      "\n"
     ]
    }
   ],
   "source": [
    "s1, s2 = get_align(\"CAGCACTTGGATTCTCGG\", \"CAGCGTGG\")\n",
    "print(s1)\n",
    "print(s2+\"\\n\")"
   ]
  },
  {
   "cell_type": "markdown",
   "metadata": {},
   "source": [
    "### Практика - задание 3"
   ]
  },
  {
   "cell_type": "code",
   "execution_count": 15,
   "metadata": {},
   "outputs": [
    {
     "data": {
      "text/plain": [
       "250"
      ]
     },
     "execution_count": 15,
     "metadata": {},
     "output_type": "execute_result"
    }
   ],
   "source": [
    "SeqIO.convert(\"cl.fq\", \"fastq\", \"cl.fasta\", \"fasta\")"
   ]
  },
  {
   "cell_type": "markdown",
   "metadata": {},
   "source": [
    "### Практика - задание 4"
   ]
  },
  {
   "cell_type": "code",
   "execution_count": 20,
   "metadata": {},
   "outputs": [
    {
     "name": "stdout",
     "output_type": "stream",
     "text": [
      "3'-CCTAGCATCGGAT-5'\n"
     ]
    }
   ],
   "source": [
    "# 5’-GGATCGTAGCCTA-3’\n",
    "dna_seq = Seq(\"GGATCGTAGCCTA\", IUPAC.unambiguous_dna)\n",
    "print(\"3'-\" + dna_seq.complement() + \"-5'\")"
   ]
  },
  {
   "cell_type": "markdown",
   "metadata": {},
   "source": [
    "### Практика - задание 5"
   ]
  },
  {
   "cell_type": "code",
   "execution_count": 37,
   "metadata": {},
   "outputs": [
    {
     "name": "stdout",
     "output_type": "stream",
     "text": [
      "[0, 1, 2, 3, 4, 5, 6, 7, 8, 9, 10, 11, 12, 13, 14, 15, 16, 17, 18, 19]\n",
      "[0, 2, 2, 4, 4, 5, 6, 7, 9, 9, 10, 11, 12, 13, 15, 15, 16, 17, 17, 17]\n"
     ]
    },
    {
     "data": {
      "text/plain": [
       "<matplotlib.collections.PathCollection at 0x22f668d84c8>"
      ]
     },
     "execution_count": 37,
     "metadata": {},
     "output_type": "execute_result"
    },
    {
     "data": {
      "image/png": "[encoded data removed]",
      "text/plain": [
       "<Figure size 432x288 with 1 Axes>"
      ]
     },
     "metadata": {
      "needs_background": "light"
     },
     "output_type": "display_data"
    }
   ],
   "source": [
    "s1, s2 = \"GCTAGTCAGATCTGACGCTA\", \"GATGGTCACATCTGCCGC--\"\n",
    "a1 = []\n",
    "a2 = []\n",
    "\n",
    "for i in range(0, len(s1)):\n",
    "    a1.append(i)\n",
    "    if(s1[i] == s2[i]):\n",
    "        a2.append(i)\n",
    "    else:\n",
    "        for j1 in range(i, len(s1)):\n",
    "            if(s1[j1] == s2[j1]):\n",
    "                break\n",
    "        for j2 in reversed(range(0, i)):\n",
    "            if(s1[j2] == s2[j2]):\n",
    "                break\n",
    "        if(j1 == len(s1)-1):\n",
    "            j1 = 20\n",
    "        if(j2==0):\n",
    "            j2 = -20\n",
    "        if(j1 == 20):\n",
    "            a2.append(j2)\n",
    "        elif(j2==20):\n",
    "            a2.append(j1)\n",
    "        elif(j1 - i > i - j2):\n",
    "            a2.append(j2)\n",
    "        else:\n",
    "            a2.append(j1) \n",
    "              \n",
    "import matplotlib.pyplot as plt\n",
    "\n",
    "print(a1)\n",
    "print(a2)\n",
    "\n",
    "plt.scatter(a1,a2)"
   ]
  },
  {
   "cell_type": "code",
   "execution_count": null,
   "metadata": {},
   "outputs": [],
   "source": []
  },
  {
   "cell_type": "markdown",
   "metadata": {},
   "source": [
    "### Практика - задание 6"
   ]
  },
  {
   "cell_type": "markdown",
   "metadata": {},
   "source": [
    "Во втором случае штраф за продолжение гэпа значительно ниже, потому что мы предпочли не сделать ни одного mismatch, закрыв все несовпадения с помощью гэпа."
   ]
  },
  {
   "cell_type": "markdown",
   "metadata": {},
   "source": [
    "### Практика - задание 8"
   ]
  },
  {
   "cell_type": "markdown",
   "metadata": {},
   "source": [
    "Последовательность 1:\n",
    "\n",
    "    BLOSSUM: 0 - 10 - 1 - 10 - 1 - 1 - 1 = -24\n",
    "    ID: -3 - 10 - 1 - 10 - 1 - 1 - 1 = -27\n",
    "        \n",
    "Последовательность 2:\n",
    "\n",
    "    BLOSSUM: 0 - 10 - 2 - 10 = -22\n",
    "    ID: -3 - 10 - 3 - 10 = -26"
   ]
  },
  {
   "cell_type": "markdown",
   "metadata": {},
   "source": [
    "### Практика - задание 9"
   ]
  },
  {
   "attachments": {
    "picture01.png": {
     "image/png": "[encoded data removed]"
    }
   },
   "cell_type": "markdown",
   "metadata": {},
   "source": [
    "![picture01.png](attachment:picture01.png)"
   ]
  },
  {
   "cell_type": "code",
   "execution_count": null,
   "metadata": {},
   "outputs": [],
   "source": []
  }
 ],
 "metadata": {
  "kernelspec": {
   "display_name": "Python 3",
   "language": "python",
   "name": "python3"
  },
  "language_info": {
   "codemirror_mode": {
    "name": "ipython",
    "version": 3
   },
   "file_extension": ".py",
   "mimetype": "text/x-python",
   "name": "python",
   "nbconvert_exporter": "python",
   "pygments_lexer": "ipython3",
   "version": "3.7.4"
  }
 },
 "nbformat": 4,
 "nbformat_minor": 2
}
