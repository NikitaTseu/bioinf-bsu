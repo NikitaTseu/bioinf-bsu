{
 "cells": [
  {
   "cell_type": "markdown",
   "metadata": {},
   "source": [
    "#### Get HBeAG sequence from online database"
   ]
  },
  {
   "cell_type": "code",
   "execution_count": 1,
   "metadata": {},
   "outputs": [],
   "source": [
    "from Bio import Entrez\n",
    "from Bio import SeqIO"
   ]
  },
  {
   "cell_type": "code",
   "execution_count": 2,
   "metadata": {},
   "outputs": [],
   "source": [
    "Entrez.email = \"fake_mail@gmail.com\""
   ]
  },
  {
   "cell_type": "code",
   "execution_count": 3,
   "metadata": {},
   "outputs": [],
   "source": [
    "entrez_handle = Entrez.efetch(\n",
    "    db = \"protein\", id = \"O92920\", rettype = \"fasta\")"
   ]
  },
  {
   "cell_type": "code",
   "execution_count": 4,
   "metadata": {},
   "outputs": [
    {
     "name": "stdout",
     "output_type": "stream",
     "text": [
      ">sp|O92920.1|HBEAG_HBVD7 RecName: Full=External core antigen; AltName: Full=HBeAg; AltName: Full=Precore protein; AltName: Full=p25; Flags: Precursor\n",
      "MQLFHLCLIISCSCPTVQASKLCLGWLWDMDIDPYKEFGATVQLLSFLPHDFFPSVRDLLDTASALFRDA\n",
      "LESPEHCSPHHTALRQAILCWGELMTLATWVGANLQDPASRELVVTYVNINMGLKFRQLLWFHISCLTFG\n",
      "RETVIEYLVSFGVWIRTPQAYRPPNAPILSTLPETTVVRRRGRSPRRRTPSPRRRRSQSPRRRRSQSRES\n",
      "QC\n",
      "\n",
      "\n"
     ]
    }
   ],
   "source": [
    "print(entrez_handle.read())"
   ]
  },
  {
   "cell_type": "code",
   "execution_count": 5,
   "metadata": {},
   "outputs": [],
   "source": [
    "entrez_handle = Entrez.efetch(\n",
    "    db = \"protein\", id = \"O92920\", rettype = \"fasta\")"
   ]
  },
  {
   "cell_type": "code",
   "execution_count": 6,
   "metadata": {},
   "outputs": [],
   "source": [
    "record = SeqIO.read(entrez_handle, \"fasta\")"
   ]
  },
  {
   "cell_type": "code",
   "execution_count": 7,
   "metadata": {},
   "outputs": [
    {
     "name": "stdout",
     "output_type": "stream",
     "text": [
      "ID: sp|O92920.1|HBEAG_HBVD7\n",
      "Name: sp|O92920.1|HBEAG_HBVD7\n",
      "Description: sp|O92920.1|HBEAG_HBVD7 RecName: Full=External core antigen; AltName: Full=HBeAg; AltName: Full=Precore protein; AltName: Full=p25; Flags: Precursor\n",
      "Number of features: 0\n",
      "Seq('MQLFHLCLIISCSCPTVQASKLCLGWLWDMDIDPYKEFGATVQLLSFLPHDFFP...SQC', SingleLetterAlphabet())\n"
     ]
    }
   ],
   "source": [
    "print(record)"
   ]
  },
  {
   "cell_type": "code",
   "execution_count": 8,
   "metadata": {},
   "outputs": [
    {
     "data": {
      "text/plain": [
       "1"
      ]
     },
     "execution_count": 8,
     "metadata": {},
     "output_type": "execute_result"
    }
   ],
   "source": [
    "# save sequence to file\n",
    "\n",
    "SeqIO.write(record, \"O92920.fasta\", \"fasta\")"
   ]
  },
  {
   "cell_type": "markdown",
   "metadata": {},
   "source": [
    "#### Using local BLAST databases"
   ]
  },
  {
   "cell_type": "code",
   "execution_count": 29,
   "metadata": {},
   "outputs": [],
   "source": [
    "from Bio.Blast.Applications import NcbiblastpCommandline as BlastCL\n",
    "from Bio.Blast import NCBIXML"
   ]
  },
  {
   "cell_type": "code",
   "execution_count": 24,
   "metadata": {},
   "outputs": [],
   "source": [
    "db = \"HBV\"\n",
    "blast_file = \"O92920.fasta\"\n",
    "blast_out = \"O92920_res.xml\"\n",
    "path = r\"C:\\Program Files\\NCBI\\blast-2.10.0+\\bin\\blastp.exe\""
   ]
  },
  {
   "cell_type": "code",
   "execution_count": 25,
   "metadata": {},
   "outputs": [],
   "source": [
    "cline = BlastCL(cmd = path, query = blast_file, db = db, outfmt = 5, out = blast_out)"
   ]
  },
  {
   "cell_type": "code",
   "execution_count": 26,
   "metadata": {},
   "outputs": [
    {
     "name": "stdout",
     "output_type": "stream",
     "text": [
      "\"C:\\Program Files\\NCBI\\blast-2.10.0+\\bin\\blastp.exe\" -out O92920_res.xml -outfmt 5 -query O92920.fasta -db HBV\n"
     ]
    }
   ],
   "source": [
    "print(cline)"
   ]
  },
  {
   "cell_type": "code",
   "execution_count": 51,
   "metadata": {},
   "outputs": [],
   "source": [
    "stdout, stderr = cline()"
   ]
  },
  {
   "cell_type": "code",
   "execution_count": 52,
   "metadata": {},
   "outputs": [],
   "source": [
    "# xml parsing\n",
    "\n",
    "result = open(blast_out, \"r\")\n",
    "records = NCBIXML.parse(result) # generator\n",
    "item = next(records)"
   ]
  },
  {
   "cell_type": "code",
   "execution_count": 53,
   "metadata": {},
   "outputs": [
    {
     "name": "stdout",
     "output_type": "stream",
     "text": [
      "**** ALIGNMENT ****\n",
      "Sequence: sp|O92920|HBEAG_HBVD7 Unknown...\n",
      "  Length: 0\n",
      " E-value: 5.12828e-158\n",
      "   Score: 1119.0\n",
      "    Gaps: (None, None)\n",
      "...\n",
      "...\n",
      "...\n",
      "\n",
      "\n",
      "**** ALIGNMENT ****\n",
      "Sequence: tr|O92918|O92918_HBV Unknown...\n",
      "  Length: 0\n",
      " E-value: 7.76187e-153\n",
      "   Score: 1085.0\n",
      "    Gaps: (None, None)\n",
      "...\n",
      "...\n",
      "...\n",
      "\n",
      "\n",
      "**** ALIGNMENT ****\n",
      "Sequence: tr|I2DB80|I2DB80_HBV Unknown...\n",
      "  Length: 0\n",
      " E-value: 1.79507e-139\n",
      "   Score: 997.0\n",
      "    Gaps: (None, None)\n",
      "...\n",
      "...\n",
      "...\n",
      "\n",
      "\n"
     ]
    }
   ],
   "source": [
    "# first 3 search results\n",
    "\n",
    "for alignment in item.alignments[:3]:\n",
    "    for hsp in alignment.hsps:\n",
    "        print(\"**** ALIGNMENT ****\")\n",
    "        print(\"Sequence: \" + alignment.title[:30] + \"...\")\n",
    "        print(\"  Length: \" + str(alignment.length))\n",
    "        print(\" E-value: \" + str(hsp.expect))\n",
    "        print(\"   Score: \" + str(hsp.score))\n",
    "        print(\"    Gaps: \" + str(hsp.gaps))\n",
    "        print(hsp.query[0:50] + \"...\")\n",
    "        print(hsp.match[0:50] + \"...\")\n",
    "        print(hsp.sbjct[0:50] + \"...\")\n",
    "        print(\"\\n\")"
   ]
  },
  {
   "cell_type": "markdown",
   "metadata": {},
   "source": [
    "#### Using BLAST online"
   ]
  },
  {
   "cell_type": "code",
   "execution_count": 55,
   "metadata": {},
   "outputs": [],
   "source": [
    "from Bio.Blast import NCBIWWW"
   ]
  },
  {
   "cell_type": "code",
   "execution_count": 56,
   "metadata": {},
   "outputs": [],
   "source": [
    "result_handle = NCBIWWW.qblast(\"blastp\", \"nr\", \"O92920\")"
   ]
  },
  {
   "cell_type": "code",
   "execution_count": 57,
   "metadata": {},
   "outputs": [],
   "source": [
    "blast_records = NCBIXML.parse(result_handle)\n",
    "blast_record = next(blast_records)"
   ]
  },
  {
   "cell_type": "code",
   "execution_count": 58,
   "metadata": {},
   "outputs": [
    {
     "name": "stdout",
     "output_type": "stream",
     "text": [
      "**** ALIGNMENT ****\n",
      "Sequence: sp|O92920.1| RecName: Full=Ext...\n",
      "  Length: 212\n",
      " E-value: 3.10459e-154\n",
      "   Score: 1119.0\n",
      "    Gaps: 0\n",
      "MQLFHLCLIISCSCPTVQASKLCLGWLWDMDIDPYKEFGATVQLLSFLPH...\n",
      "MQLFHLCLIISCSCPTVQASKLCLGWLWDMDIDPYKEFGATVQLLSFLPH...\n",
      "MQLFHLCLIISCSCPTVQASKLCLGWLWDMDIDPYKEFGATVQLLSFLPH...\n",
      "\n",
      "\n",
      "**** ALIGNMENT ****\n",
      "Sequence: gb|QDO72733.1| precore/core pr...\n",
      "  Length: 212\n",
      " E-value: 1.01553e-153\n",
      "   Score: 1115.0\n",
      "    Gaps: 0\n",
      "MQLFHLCLIISCSCPTVQASKLCLGWLWDMDIDPYKEFGATVQLLSFLPH...\n",
      "MQLFHLCLIISCSCPTVQASKLCLGWLWDMDIDPYKEFGATVQLLSFLPH...\n",
      "MQLFHLCLIISCSCPTVQASKLCLGWLWDMDIDPYKEFGATVQLLSFLPH...\n",
      "\n",
      "\n",
      "**** ALIGNMENT ****\n",
      "Sequence: gb|QDO72728.1| precore/core pr...\n",
      "  Length: 212\n",
      " E-value: 1.17331e-152\n",
      "   Score: 1108.0\n",
      "    Gaps: 0\n",
      "MQLFHLCLIISCSCPTVQASKLCLGWLWDMDIDPYKEFGATVQLLSFLPH...\n",
      "MQLFHLCLIISCSCPTVQASKLCLGWLWDMDIDPYKEFGATV+LLSFLPH...\n",
      "MQLFHLCLIISCSCPTVQASKLCLGWLWDMDIDPYKEFGATVELLSFLPH...\n",
      "\n",
      "\n"
     ]
    }
   ],
   "source": [
    "# first 3 search results\n",
    "\n",
    "for alignment in blast_record.alignments[:3]:\n",
    "    for hsp in alignment.hsps:\n",
    "        print(\"**** ALIGNMENT ****\")\n",
    "        print(\"Sequence: \" + alignment.title[:30] + \"...\")\n",
    "        print(\"  Length: \" + str(alignment.length))\n",
    "        print(\" E-value: \" + str(hsp.expect))\n",
    "        print(\"   Score: \" + str(hsp.score))\n",
    "        print(\"    Gaps: \" + str(hsp.gaps))\n",
    "        print(hsp.query[0:50] + \"...\")\n",
    "        print(hsp.match[0:50] + \"...\")\n",
    "        print(hsp.sbjct[0:50] + \"...\")\n",
    "        print(\"\\n\")"
   ]
  },
  {
   "cell_type": "code",
   "execution_count": 71,
   "metadata": {},
   "outputs": [],
   "source": [
    "f = open(\"output.txt\", \"w+\")\n",
    "\n",
    "for alignment in blast_record.alignments[:5]:\n",
    "    for hsp in alignment.hsps:\n",
    "        f.write(\"**** ALIGNMENT **** \\n\")\n",
    "        f.write(\"Sequence: \" + alignment.title[:50] + \"...\" + \" \\n\")\n",
    "        f.write(\"  Length: \" + str(alignment.length) + \" \\n\")\n",
    "        f.write(\" E-value: \" + str(hsp.expect) + \" \\n\")\n",
    "        f.write(\"   Score: \" + str(hsp.score) + \" \\n\")\n",
    "        f.write(\"    Gaps: \" + str(hsp.gaps) + \" \\n\")\n",
    "        f.write(hsp.query[0:75] + \"... \\n\")\n",
    "        f.write(hsp.match[0:75] + \"... \\n\")\n",
    "        f.write(hsp.sbjct[0:75] + \"... \\n\")\n",
    "        f.write(\" \\n\")"
   ]
  },
  {
   "cell_type": "code",
   "execution_count": null,
   "metadata": {},
   "outputs": [],
   "source": []
  }
 ],
 "metadata": {
  "kernelspec": {
   "display_name": "Python 3",
   "language": "python",
   "name": "python3"
  },
  "language_info": {
   "codemirror_mode": {
    "name": "ipython",
    "version": 3
   },
   "file_extension": ".py",
   "mimetype": "text/x-python",
   "name": "python",
   "nbconvert_exporter": "python",
   "pygments_lexer": "ipython3",
   "version": "3.7.4"
  }
 },
 "nbformat": 4,
 "nbformat_minor": 2
}
