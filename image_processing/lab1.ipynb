{
 "cells": [
  {
   "cell_type": "code",
   "execution_count": 1,
   "metadata": {},
   "outputs": [],
   "source": [
    "import random\n",
    "from PIL import Image, ImageDraw\n",
    "from pylab import *\n",
    "import numpy as np"
   ]
  },
  {
   "cell_type": "code",
   "execution_count": 2,
   "metadata": {},
   "outputs": [],
   "source": [
    "def get_image_size(im):\n",
    "    return (int(im[0].size / 3), int(im.size / im[0].size))"
   ]
  },
  {
   "cell_type": "code",
   "execution_count": 3,
   "metadata": {},
   "outputs": [],
   "source": [
    "def binary_image_to_matrix(im):\n",
    "    xm, ym = get_image_size(im)\n",
    "\n",
    "    a = np.zeros((ym, xm))\n",
    "\n",
    "    for i in range(ym):\n",
    "        for j in range(xm):\n",
    "            if(im[i][j][0] < 200):\n",
    "                a[i][j] = 1\n",
    "                \n",
    "    return a"
   ]
  },
  {
   "cell_type": "code",
   "execution_count": 4,
   "metadata": {},
   "outputs": [],
   "source": [
    "def extention(ae, b):\n",
    "    a = copy(ae)\n",
    "    xb = int((len(b[0]) - 1) / 2)\n",
    "    yb = int((len(b) - 1) / 2)\n",
    "    \n",
    "    xa = len(a[0])\n",
    "    ya = len(a)\n",
    "    \n",
    "    for i in range(ya):\n",
    "        for j in range(xa):\n",
    "            if(a[i][j] == 1):\n",
    "                for ib in range(-yb, yb + 1):\n",
    "                    for jb in range(-xb, xb + 1):\n",
    "                        if((i + ib >= 0) and \n",
    "                           (i + ib < ya) and \n",
    "                           (j + jb >= 0) and \n",
    "                           (j + jb < xa)):\n",
    "                            if(a[i + ib][j + jb] == 0 and b[yb + ib][xb + jb] == 1):\n",
    "                                a[i + ib][j + jb] = 2\n",
    "                                \n",
    "    for i in range(ya):\n",
    "        for j in range(xa):\n",
    "            if(a[i][j] != 0):\n",
    "                a[i][j] = 1\n",
    "                \n",
    "    return a"
   ]
  },
  {
   "cell_type": "code",
   "execution_count": 5,
   "metadata": {},
   "outputs": [],
   "source": [
    "def erosion(ae, b):\n",
    "    xa = len(ae[0])\n",
    "    ya = len(ae)\n",
    "    \n",
    "    xb = int((len(b[0]) - 1) / 2)\n",
    "    yb = int((len(b) - 1) / 2)\n",
    "    \n",
    "    a = np.zeros((ya, xa))\n",
    "    \n",
    "    for i in range(ya):\n",
    "        for j in range(xa):\n",
    "            if(ae[i][j] == 1):\n",
    "                flag = True\n",
    "                for ib in range(-yb, yb + 1):\n",
    "                    for jb in range(-xb, xb + 1):\n",
    "                        if((i + ib >= 0) and \n",
    "                           (i + ib < ya) and \n",
    "                           (j + jb >= 0) and \n",
    "                           (j + jb < xa)):\n",
    "                            if(ae[i + ib][j + jb] == 0 and b[yb + ib][xb + jb] == 1):\n",
    "                                flag = False\n",
    "                if(flag):\n",
    "                    a[i][j] = 1\n",
    "                    \n",
    "    return a"
   ]
  },
  {
   "cell_type": "code",
   "execution_count": 6,
   "metadata": {},
   "outputs": [],
   "source": [
    "def sub(a1, a2):\n",
    "    a = copy(a1)\n",
    "    xa = len(a1[0])\n",
    "    ya = len(a1)\n",
    "    \n",
    "    for i in range(ya):\n",
    "        for j in range(xa):\n",
    "            if(a1[i][j] == 1 and a2[i][j] == 1):\n",
    "                a[i][j] = 0\n",
    "                \n",
    "    return a"
   ]
  },
  {
   "cell_type": "code",
   "execution_count": 7,
   "metadata": {},
   "outputs": [],
   "source": [
    "def add(a1, a2):\n",
    "    a = copy(a1)\n",
    "    xa = len(a1[0])\n",
    "    ya = len(a1)\n",
    "    \n",
    "    for i in range(ya):\n",
    "        for j in range(xa):\n",
    "            if(a1[i][j] == 1 or a2[i][j] == 1):\n",
    "                a[i][j] = 1\n",
    "                \n",
    "    return a"
   ]
  },
  {
   "cell_type": "code",
   "execution_count": 8,
   "metadata": {},
   "outputs": [],
   "source": [
    "def is_empty(a):\n",
    "    xa = len(a[0])\n",
    "    ya = len(a)\n",
    "    \n",
    "    for i in range(ya):\n",
    "        for j in range(xa):\n",
    "            if(a[i][j] == 1):\n",
    "                return False\n",
    "                \n",
    "    return True"
   ]
  },
  {
   "cell_type": "code",
   "execution_count": 9,
   "metadata": {},
   "outputs": [],
   "source": [
    "def get_skelet_sets(a, b):  \n",
    "    y1 = copy(a)\n",
    "    \n",
    "    s = []\n",
    "\n",
    "    while(True):\n",
    "        y2 = erosion(y1, b)\n",
    "        \n",
    "        if(is_empty(y2)):\n",
    "            s.append(y1)\n",
    "            return s\n",
    "        \n",
    "        y3 = extention(y2, b)\n",
    "        s.append(sub(y1, y3))\n",
    "        y1 = copy(y2)"
   ]
  },
  {
   "cell_type": "code",
   "execution_count": 10,
   "metadata": {},
   "outputs": [],
   "source": [
    "def get_skelet_image(skelet_sets):\n",
    "    x = skelet_sets[0]\n",
    "    for i in range(1, len(skelet_sets)):\n",
    "        x = add(x, skelet_sets[i])\n",
    "    return x"
   ]
  },
  {
   "cell_type": "code",
   "execution_count": 11,
   "metadata": {},
   "outputs": [],
   "source": [
    "def restore_original_image(skelet_sets, b):\n",
    "    n = len(skelet_sets)\n",
    "    im = skelet_sets[-1]\n",
    "    for i in range(1, len(skelet_sets)):\n",
    "        im = extention(im, b)\n",
    "        im = add(im, skelet_sets[n - i - 1])\n",
    "    return im"
   ]
  },
  {
   "cell_type": "code",
   "execution_count": 12,
   "metadata": {},
   "outputs": [],
   "source": [
    "b1 = [[1, 1, 1, 1, 1],\n",
    "      [1, 1, 1, 1, 1],\n",
    "      [1, 1, 1, 1, 1],\n",
    "      [1, 1, 1, 1, 1],\n",
    "      [1, 1, 1, 1, 1]]\n",
    "\n",
    "b2 = [[0, 0, 1, 0, 0],\n",
    "      [0, 1, 1, 1, 0],\n",
    "      [1, 1, 1, 1, 1],\n",
    "      [0, 1, 1, 1, 0],\n",
    "      [0, 0, 1, 0, 0]]"
   ]
  },
  {
   "cell_type": "markdown",
   "metadata": {},
   "source": [
    "# Изображение №1, структурирующий элемент №1"
   ]
  },
  {
   "cell_type": "code",
   "execution_count": 13,
   "metadata": {},
   "outputs": [],
   "source": [
    "a1 = binary_image_to_matrix(array(Image.open('./images/lab1/fig1.jpg')))\n",
    "s1 = get_skelet_sets(a1, b1)\n",
    "x1 = get_skelet_image(s1)\n",
    "a1_restored = restore_original_image(s1, b1)"
   ]
  },
  {
   "cell_type": "code",
   "execution_count": 14,
   "metadata": {},
   "outputs": [
    {
     "data": {
      "text/plain": [
       "<matplotlib.image.AxesImage at 0x2265b70ca88>"
      ]
     },
     "execution_count": 14,
     "metadata": {},
     "output_type": "execute_result"
    },
    {
     "data": {
      "image/png": "[encoded data removed]",
      "text/plain": [
       "<Figure size 432x288 with 1 Axes>"
      ]
     },
     "metadata": {
      "needs_background": "light"
     },
     "output_type": "display_data"
    }
   ],
   "source": [
    "# original image\n",
    "imshow(a1)"
   ]
  },
  {
   "cell_type": "code",
   "execution_count": 15,
   "metadata": {},
   "outputs": [
    {
     "data": {
      "text/plain": [
       "<matplotlib.image.AxesImage at 0x2265c79e808>"
      ]
     },
     "execution_count": 15,
     "metadata": {},
     "output_type": "execute_result"
    },
    {
     "data": {
      "image/png": "[encoded data removed]",
      "text/plain": [
       "<Figure size 432x288 with 1 Axes>"
      ]
     },
     "metadata": {
      "needs_background": "light"
     },
     "output_type": "display_data"
    }
   ],
   "source": [
    "# image skeleton\n",
    "imshow(x1)"
   ]
  },
  {
   "cell_type": "code",
   "execution_count": 16,
   "metadata": {
    "scrolled": true
   },
   "outputs": [
    {
     "data": {
      "text/plain": [
       "<matplotlib.image.AxesImage at 0x2265c80a608>"
      ]
     },
     "execution_count": 16,
     "metadata": {},
     "output_type": "execute_result"
    },
    {
     "data": {
      "image/png": "[encoded data removed]",
      "text/plain": [
       "<Figure size 432x288 with 1 Axes>"
      ]
     },
     "metadata": {
      "needs_background": "light"
     },
     "output_type": "display_data"
    }
   ],
   "source": [
    "# original image restored from its skeleton\n",
    "imshow(a1_restored)"
   ]
  },
  {
   "cell_type": "markdown",
   "metadata": {},
   "source": [
    "# Изображение №1, структурирующий элемент №2"
   ]
  },
  {
   "cell_type": "code",
   "execution_count": 17,
   "metadata": {},
   "outputs": [],
   "source": [
    "a1 = binary_image_to_matrix(array(Image.open('./images/lab1/fig1.jpg')))\n",
    "s1 = get_skelet_sets(a1, b2)\n",
    "x1 = get_skelet_image(s1)\n",
    "a1_restored = restore_original_image(s1, b2)"
   ]
  },
  {
   "cell_type": "code",
   "execution_count": 18,
   "metadata": {},
   "outputs": [
    {
     "data": {
      "text/plain": [
       "<matplotlib.image.AxesImage at 0x2265c876e88>"
      ]
     },
     "execution_count": 18,
     "metadata": {},
     "output_type": "execute_result"
    },
    {
     "data": {
      "image/png": "[encoded data removed]",
      "text/plain": [
       "<Figure size 432x288 with 1 Axes>"
      ]
     },
     "metadata": {
      "needs_background": "light"
     },
     "output_type": "display_data"
    }
   ],
   "source": [
    "# original image\n",
    "imshow(a1)"
   ]
  },
  {
   "cell_type": "code",
   "execution_count": 19,
   "metadata": {},
   "outputs": [
    {
     "data": {
      "text/plain": [
       "<matplotlib.image.AxesImage at 0x2265c8e3588>"
      ]
     },
     "execution_count": 19,
     "metadata": {},
     "output_type": "execute_result"
    },
    {
     "data": {
      "image/png": "[encoded data removed]",
      "text/plain": [
       "<Figure size 432x288 with 1 Axes>"
      ]
     },
     "metadata": {
      "needs_background": "light"
     },
     "output_type": "display_data"
    }
   ],
   "source": [
    "# image skeleton\n",
    "imshow(x1)"
   ]
  },
  {
   "cell_type": "code",
   "execution_count": 20,
   "metadata": {
    "scrolled": false
   },
   "outputs": [
    {
     "data": {
      "text/plain": [
       "<matplotlib.image.AxesImage at 0x2265c948fc8>"
      ]
     },
     "execution_count": 20,
     "metadata": {},
     "output_type": "execute_result"
    },
    {
     "data": {
      "image/png": "[encoded data removed]",
      "text/plain": [
       "<Figure size 432x288 with 1 Axes>"
      ]
     },
     "metadata": {
      "needs_background": "light"
     },
     "output_type": "display_data"
    }
   ],
   "source": [
    "# original image restored from its skeleton\n",
    "imshow(a1_restored)"
   ]
  },
  {
   "cell_type": "markdown",
   "metadata": {},
   "source": [
    "# Изображение №2, структурирующий элемент №1"
   ]
  },
  {
   "cell_type": "code",
   "execution_count": 21,
   "metadata": {},
   "outputs": [],
   "source": [
    "a1 = binary_image_to_matrix(array(Image.open('./images/lab1/fig2.jpg')))\n",
    "s1 = get_skelet_sets(a1, b1)\n",
    "x1 = get_skelet_image(s1)\n",
    "a1_restored = restore_original_image(s1, b1)"
   ]
  },
  {
   "cell_type": "code",
   "execution_count": 22,
   "metadata": {},
   "outputs": [
    {
     "data": {
      "text/plain": [
       "<matplotlib.image.AxesImage at 0x2265c9b9388>"
      ]
     },
     "execution_count": 22,
     "metadata": {},
     "output_type": "execute_result"
    },
    {
     "data": {
      "image/png": "[encoded data removed]",
      "text/plain": [
       "<Figure size 432x288 with 1 Axes>"
      ]
     },
     "metadata": {
      "needs_background": "light"
     },
     "output_type": "display_data"
    }
   ],
   "source": [
    "# original image\n",
    "imshow(a1)"
   ]
  },
  {
   "cell_type": "code",
   "execution_count": 23,
   "metadata": {},
   "outputs": [
    {
     "data": {
      "text/plain": [
       "<matplotlib.image.AxesImage at 0x2265d9f0c08>"
      ]
     },
     "execution_count": 23,
     "metadata": {},
     "output_type": "execute_result"
    },
    {
     "data": {
      "image/png": "[encoded data removed]",
      "text/plain": [
       "<Figure size 432x288 with 1 Axes>"
      ]
     },
     "metadata": {
      "needs_background": "light"
     },
     "output_type": "display_data"
    }
   ],
   "source": [
    "# image skeleton\n",
    "imshow(x1)"
   ]
  },
  {
   "cell_type": "code",
   "execution_count": 24,
   "metadata": {
    "scrolled": false
   },
   "outputs": [
    {
     "data": {
      "text/plain": [
       "<matplotlib.image.AxesImage at 0x2265da5bb88>"
      ]
     },
     "execution_count": 24,
     "metadata": {},
     "output_type": "execute_result"
    },
    {
     "data": {
      "image/png": "[encoded data removed]",
      "text/plain": [
       "<Figure size 432x288 with 1 Axes>"
      ]
     },
     "metadata": {
      "needs_background": "light"
     },
     "output_type": "display_data"
    }
   ],
   "source": [
    "# original image restored from its skeleton\n",
    "imshow(a1_restored)"
   ]
  },
  {
   "cell_type": "markdown",
   "metadata": {},
   "source": [
    "# Изображение №2, структурирующий элемент №2"
   ]
  },
  {
   "cell_type": "code",
   "execution_count": 25,
   "metadata": {},
   "outputs": [],
   "source": [
    "a1 = binary_image_to_matrix(array(Image.open('./images/lab1/fig2.jpg')))\n",
    "s1 = get_skelet_sets(a1, b2)\n",
    "x1 = get_skelet_image(s1)\n",
    "a1_restored = restore_original_image(s1, b2)"
   ]
  },
  {
   "cell_type": "code",
   "execution_count": 26,
   "metadata": {},
   "outputs": [
    {
     "data": {
      "text/plain": [
       "<matplotlib.image.AxesImage at 0x2265dac7d88>"
      ]
     },
     "execution_count": 26,
     "metadata": {},
     "output_type": "execute_result"
    },
    {
     "data": {
      "image/png": "[encoded data removed]",
      "text/plain": [
       "<Figure size 432x288 with 1 Axes>"
      ]
     },
     "metadata": {
      "needs_background": "light"
     },
     "output_type": "display_data"
    }
   ],
   "source": [
    "# original image\n",
    "imshow(a1)"
   ]
  },
  {
   "cell_type": "code",
   "execution_count": 27,
   "metadata": {},
   "outputs": [
    {
     "data": {
      "text/plain": [
       "<matplotlib.image.AxesImage at 0x2265db38848>"
      ]
     },
     "execution_count": 27,
     "metadata": {},
     "output_type": "execute_result"
    },
    {
     "data": {
      "image/png": "[encoded data removed]",
      "text/plain": [
       "<Figure size 432x288 with 1 Axes>"
      ]
     },
     "metadata": {
      "needs_background": "light"
     },
     "output_type": "display_data"
    }
   ],
   "source": [
    "# image skeleton\n",
    "imshow(x1)"
   ]
  },
  {
   "cell_type": "code",
   "execution_count": 28,
   "metadata": {
    "scrolled": false
   },
   "outputs": [
    {
     "data": {
      "text/plain": [
       "<matplotlib.image.AxesImage at 0x2265db89a88>"
      ]
     },
     "execution_count": 28,
     "metadata": {},
     "output_type": "execute_result"
    },
    {
     "data": {
      "image/png": "[encoded data removed]",
      "text/plain": [
       "<Figure size 432x288 with 1 Axes>"
      ]
     },
     "metadata": {
      "needs_background": "light"
     },
     "output_type": "display_data"
    }
   ],
   "source": [
    "# original image restored from its skeleton\n",
    "imshow(a1_restored)"
   ]
  },
  {
   "cell_type": "code",
   "execution_count": null,
   "metadata": {},
   "outputs": [],
   "source": []
  }
 ],
 "metadata": {
  "kernelspec": {
   "display_name": "Python 3",
   "language": "python",
   "name": "python3"
  },
  "language_info": {
   "codemirror_mode": {
    "name": "ipython",
    "version": 3
   },
   "file_extension": ".py",
   "mimetype": "text/x-python",
   "name": "python",
   "nbconvert_exporter": "python",
   "pygments_lexer": "ipython3",
   "version": "3.7.4"
  }
 },
 "nbformat": 4,
 "nbformat_minor": 2
}
