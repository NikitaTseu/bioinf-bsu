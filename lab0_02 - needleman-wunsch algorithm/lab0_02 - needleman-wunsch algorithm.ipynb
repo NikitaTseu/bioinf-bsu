{
 "cells": [
  {
   "cell_type": "code",
   "execution_count": 1,
   "metadata": {},
   "outputs": [],
   "source": [
    "import numpy as np"
   ]
  },
  {
   "cell_type": "code",
   "execution_count": 2,
   "metadata": {},
   "outputs": [],
   "source": [
    "def e(s1, s2, i, j):\n",
    "    if(s1[i] == s2[j]):\n",
    "        return 0\n",
    "    else:\n",
    "        return 1"
   ]
  },
  {
   "cell_type": "code",
   "execution_count": 3,
   "metadata": {},
   "outputs": [],
   "source": [
    "def create_matrix(s1, s2):\n",
    "    m = len(s1) + 1\n",
    "    n = len(s2) + 1\n",
    "    a = np.zeros((n, m))\n",
    "    \n",
    "    for i in range(0, n):\n",
    "        a[i][0] = i\n",
    "    for i in range(0, m):\n",
    "        a[0][i] = i\n",
    "        \n",
    "    for i in range(1, n):\n",
    "        for j in range(1, m):\n",
    "            a[i][j] = np.min([a[i-1][j-1] + e(s1, s2, j-1, i-1),\n",
    "                             a[i-1][j] + 1,\n",
    "                             a[i][j-1] + 1])\n",
    "    \n",
    "    #print (a)\n",
    "    \n",
    "    return a, n, m"
   ]
  },
  {
   "cell_type": "code",
   "execution_count": 4,
   "metadata": {},
   "outputs": [],
   "source": [
    "def get_align(str1, str2):\n",
    "    a, n, m = create_matrix(str1, str2)\n",
    "    print(\"Score: {}\".format(a[n-1][m-1]))\n",
    "    i, j = n - 1, m - 1\n",
    "    s1, s2 = \"\", \"\"\n",
    "    while(i != 0 or j != 0):\n",
    "        if(i == 0):\n",
    "            j -= 1\n",
    "            s2 += \"-\"\n",
    "            s1 += str1[j]\n",
    "        elif(j == 0):\n",
    "            i -= 1\n",
    "            s1 += \"-\"\n",
    "            s2 += str2[i]\n",
    "        else:\n",
    "            if(a[i-1][j-1] <= a[i][j-1] and a[i-1][j-1] <= a[i-1][j]):\n",
    "                j -= 1\n",
    "                i -= 1\n",
    "                s1 += str1[j]\n",
    "                s2 += str2[i]\n",
    "            elif(a[i-1][j] <= a[i-1][j-1] and a[i-1][j] <= a[i][j-1]):\n",
    "                i -= 1\n",
    "                s1 += \"-\"\n",
    "                s2 += str2[i]\n",
    "            elif(a[i][j-1] <= a[i-1][j-1] and a[i][j-1] <= a[i-1][j]):\n",
    "                j -= 1\n",
    "                s2 += \"-\"\n",
    "                s1 += str1[j]\n",
    "    \n",
    "    s1 = s1[::-1]\n",
    "    s2 = s2[::-1]\n",
    "    return s1, s2"
   ]
  },
  {
   "cell_type": "code",
   "execution_count": 5,
   "metadata": {},
   "outputs": [
    {
     "name": "stdout",
     "output_type": "stream",
     "text": [
      "Score: 1.0\n",
      "ggagtgtcggg\n",
      "ggagtgtcgga\n",
      "\n",
      "Score: 3.0\n",
      "a-tgccagga\n",
      "agtgtc-gga\n",
      "\n",
      "Score: 4.0\n",
      "agtcg--\n",
      "--tcgac\n",
      "\n",
      "Score: 2.0\n",
      "--gac\n",
      "tcgac\n",
      "\n"
     ]
    }
   ],
   "source": [
    "s1, s2 = get_align(\"ggagtgtcggg\", \"ggagtgtcgga\")\n",
    "print(s1)\n",
    "print(s2+\"\\n\")\n",
    "\n",
    "s1, s2 = get_align(\"atgccagga\", \"agtgtcgga\")\n",
    "print(s1)\n",
    "print(s2+\"\\n\")\n",
    "\n",
    "s1, s2 = get_align(\"agtcg\", \"tcgac\")\n",
    "print(s1)\n",
    "print(s2+\"\\n\")\n",
    "\n",
    "s1, s2 = get_align(\"gac\", \"tcgac\")\n",
    "print(s1)\n",
    "print(s2+\"\\n\")"
   ]
  }
 ],
 "metadata": {
  "kernelspec": {
   "display_name": "Python 3",
   "language": "python",
   "name": "python3"
  },
  "language_info": {
   "codemirror_mode": {
    "name": "ipython",
    "version": 3
   },
   "file_extension": ".py",
   "mimetype": "text/x-python",
   "name": "python",
   "nbconvert_exporter": "python",
   "pygments_lexer": "ipython3",
   "version": "3.7.4"
  }
 },
 "nbformat": 4,
 "nbformat_minor": 2
}
