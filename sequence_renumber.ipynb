{
 "cells": [
  {
   "cell_type": "code",
   "execution_count": 1,
   "metadata": {},
   "outputs": [],
   "source": [
    "def align_pattern(pattern):\n",
    "    ali = dict()\n",
    "    i = 1\n",
    "    for pair in pattern:\n",
    "        for j in range(pair[0], pair[1] + 1):\n",
    "            ali[i] = j\n",
    "            i += 1\n",
    "            \n",
    "    return ali"
   ]
  },
  {
   "cell_type": "code",
   "execution_count": 2,
   "metadata": {},
   "outputs": [],
   "source": [
    "def change_index(ls, start, length, ali):\n",
    "    index_before_list = ls[start:start + length]\n",
    "    index_before_string = \"\".join(index_before_list)\n",
    "    index_before_int = int(index_before_string)\n",
    "                \n",
    "    index_after_int = ali[index_before_int]\n",
    "    index_after_string = str(index_after_int)\n",
    "    index_after_list = list(index_after_string)\n",
    "                \n",
    "    index_after_list.reverse()\n",
    "                \n",
    "    while(len(index_after_list) < length):\n",
    "        index_after_list.append(\" \")\n",
    "                    \n",
    "    index_after_list.reverse()\n",
    "                \n",
    "    for i in range(length):\n",
    "        ls[start + i] = index_after_list[i]\n",
    "        \n",
    "    return ls"
   ]
  },
  {
   "cell_type": "code",
   "execution_count": 3,
   "metadata": {},
   "outputs": [],
   "source": [
    "def parse_pdb(input_path, output_path, ali):\n",
    "    with open(input_path, 'r') as fin:\n",
    "        fout = open(output_path, \"w\")\n",
    "            \n",
    "        data = fin.readlines()\n",
    "        for s in data:\n",
    "            ls = list(s)\n",
    "            \n",
    "            if (ls[0:4] == ['A', 'T', 'O', 'M']):\n",
    "                ls = change_index(ls, 22, 4, ali)\n",
    "                \n",
    "            if (ls[0:4] == ['H', 'E', 'L', 'I']):\n",
    "                ls = change_index(ls, 21, 4, ali)\n",
    "                ls = change_index(ls, 33, 4, ali)\n",
    "                \n",
    "            if (ls[0:4] == ['S', 'H', 'E', 'E']):\n",
    "                ls = change_index(ls, 22, 4, ali)\n",
    "                ls = change_index(ls, 33, 4, ali)\n",
    "                    \n",
    "            s = \"\".join(ls)\n",
    "            fout.write(s)"
   ]
  },
  {
   "cell_type": "code",
   "execution_count": 4,
   "metadata": {},
   "outputs": [],
   "source": [
    "input_path = r\"C:\\diplom\\homology\\custom\\model_minimized.pdb\"\n",
    "\n",
    "output_path = r\"C:\\diplom\\homology\\custom\\model_minimized_renumbered.pdb\""
   ]
  },
  {
   "cell_type": "code",
   "execution_count": 5,
   "metadata": {},
   "outputs": [],
   "source": [
    "pattern = [(383, 389),\n",
    "           (396, 397),\n",
    "           (398, 416), \n",
    "           (418, 430), \n",
    "           (455, 460), \n",
    "           (465, 522), \n",
    "           (532, 551), \n",
    "           (553, 591), \n",
    "           (593, 598), \n",
    "           (601, 603), \n",
    "           (606, 606), ####\n",
    "           (609, 613), \n",
    "           (617, 647), \n",
    "           (653, 656), \n",
    "           (660, 665), \n",
    "           (677, 696), \n",
    "           (702, 733), \n",
    "           (778, 782), \n",
    "           (803, 813), \n",
    "           (814, 859), \n",
    "           (860, 884), \n",
    "           (886, 893), \n",
    "           (898, 910), \n",
    "           (922, 951), \n",
    "           (952, 958), \n",
    "           (2000, 2002), ####\n",
    "           (959, 1130)]"
   ]
  },
  {
   "cell_type": "code",
   "execution_count": 6,
   "metadata": {},
   "outputs": [],
   "source": [
    "ali = align_pattern(pattern)\n",
    "parse_pdb(input_path, output_path, ali)"
   ]
  },
  {
   "cell_type": "code",
   "execution_count": null,
   "metadata": {},
   "outputs": [],
   "source": []
  }
 ],
 "metadata": {
  "kernelspec": {
   "display_name": "Python 3",
   "language": "python",
   "name": "python3"
  },
  "language_info": {
   "codemirror_mode": {
    "name": "ipython",
    "version": 3
   },
   "file_extension": ".py",
   "mimetype": "text/x-python",
   "name": "python",
   "nbconvert_exporter": "python",
   "pygments_lexer": "ipython3",
   "version": "3.7.4"
  }
 },
 "nbformat": 4,
 "nbformat_minor": 2
}
